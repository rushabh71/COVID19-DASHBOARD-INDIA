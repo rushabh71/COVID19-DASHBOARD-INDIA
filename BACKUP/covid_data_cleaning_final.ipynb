{
 "cells": [
  {
   "cell_type": "markdown",
   "metadata": {},
   "source": [
    "Importing libraries"
   ]
  },
  {
   "cell_type": "code",
   "execution_count": 1,
   "metadata": {},
   "outputs": [],
   "source": [
    "import numpy as np\n",
    "import pandas as pd\n",
    "import math\n",
    "import datetime"
   ]
  },
  {
   "cell_type": "markdown",
   "metadata": {},
   "source": [
    "Setting path"
   ]
  },
  {
   "cell_type": "code",
   "execution_count": 2,
   "metadata": {},
   "outputs": [],
   "source": [
    "path = 'C:/Users/rusha/Documents/COVID19/'"
   ]
  },
  {
   "cell_type": "markdown",
   "metadata": {},
   "source": [
    "Country wise data"
   ]
  },
  {
   "cell_type": "code",
   "execution_count": 3,
   "metadata": {},
   "outputs": [],
   "source": [
    "india_df = pd.read_csv('https://api.covid19india.org/csv/latest/case_time_series.csv')\n",
    "india_df = india_df.drop('Date',1)\n",
    "india_df.rename(columns = {'Date_YMD' : 'Date'}, inplace=True)\n",
    "india_df.to_excel(path+'india_df.xlsx', index=False)"
   ]
  },
  {
   "cell_type": "markdown",
   "metadata": {},
   "source": [
    "District wise data"
   ]
  },
  {
   "cell_type": "code",
   "execution_count": 4,
   "metadata": {},
   "outputs": [],
   "source": [
    "district_df = pd.read_csv('https://api.covid19india.org/csv/latest/district_wise.csv')\n",
    "district_df = district_df.drop(['SlNo'], 1)\n",
    "district_df = district_df.drop([0], 0)\n",
    "district_df.to_excel(path+'district_df.xlsx', index=False)"
   ]
  },
  {
   "cell_type": "markdown",
   "metadata": {},
   "source": [
    "State wise daily"
   ]
  },
  {
   "cell_type": "code",
   "execution_count": 5,
   "metadata": {},
   "outputs": [],
   "source": [
    "state_daily_df = pd.read_csv('https://api.covid19india.org/csv/latest/states.csv')\n",
    "state_daily_df = state_daily_df.fillna(0)\n",
    "state_daily_df = state_daily_df.loc[state_daily_df['State']!='India',:].reset_index()\n",
    "state_daily_df = state_daily_df.groupby(['State','Date']).sum()\n",
    "state_daily_df = state_daily_df.reset_index()\n",
    "\n",
    "state_daily_df['Daily Confirmed'] = 0\n",
    "state_daily_df['Daily Recovered'] = 0\n",
    "state_daily_df['Daily Deceased'] = 0\n",
    "state_daily_df['Daily Tested'] = 0\n",
    "\n",
    "for i in range(0,len(state_daily_df)):\n",
    "    if(i>0 and state_daily_df.loc[i,'Confirmed'] >= 0):\n",
    "        state_daily_df.loc[i,'Daily Confirmed'] = state_daily_df.loc[i,'Confirmed'] - state_daily_df.loc[i-1,'Confirmed']\n",
    "        state_daily_df.loc[i,'Daily Recovered'] = state_daily_df.loc[i,'Recovered'] - state_daily_df.loc[i-1,'Recovered']\n",
    "        state_daily_df.loc[i,'Daily Deceased'] = state_daily_df.loc[i,'Deceased'] - state_daily_df.loc[i-1,'Deceased']\n",
    "        state_daily_df.loc[i,'Daily Tested'] = state_daily_df.loc[i,'Tested'] - state_daily_df.loc[i-1,'Tested']\n",
    "    elif(i==0 and state_daily_df.loc[i,'Confirmed'] >= 0):\n",
    "        state_daily_df.loc[i,'Daily Confirmed'] = state_daily_df.loc[i,'Confirmed']\n",
    "        state_daily_df.loc[i,'Daily Recovered'] = state_daily_df.loc[i,'Recovered']\n",
    "        state_daily_df.loc[i,'Daily Deceased'] = state_daily_df.loc[i,'Deceased']\n",
    "        state_daily_df.loc[i,'Daily Tested'] = state_daily_df.loc[i,'Tested']\n",
    "        \n",
    "del state_daily_df['index']\n",
    "\n",
    "df_values = state_daily_df.values\n",
    "\n",
    "for i in range(0,len(df_values)):\n",
    "    state = df_values[i][0]\n",
    "    daily_confirmed = df_values[i][7]\n",
    "    daily_recovered = df_values[i][8]\n",
    "    daily_deceased = df_values[i][9]\n",
    "    daily_tested = df_values[i][10]\n",
    "    \n",
    "    if(daily_confirmed<0 and df_values[i-1][0]==df_values[i][0]):\n",
    "        df_values[i][7] = state_daily_df.values[i-1][7]\n",
    "    elif(daily_recovered<0 and df_values[i-1][0]==df_values[i][0]):\n",
    "        df_values[i][8] = df_values[i-1][8]\n",
    "    elif(daily_deceased<0 and df_values[i-1][0]==df_values[i][0]):\n",
    "        df_values[i][9] = df_values[i-1][9]\n",
    "    elif(daily_tested<0 and df_values[i-1][0]==df_values[i][0]):\n",
    "        df_values[i][10] = df_values[i-1][10]\n",
    "\n",
    "state_daily_df = pd.DataFrame(df_values)\n",
    "state_daily_df.columns = ['State', 'Date','Total Confirmed','Total Recovered','Total Deceased','Other','Total Tested',\n",
    "                          'Daily Confirmed','Daily Recovered', 'Daily Deceased','Daily Tested']\n",
    "state_daily_df['Date'] = state_daily_df['Date'].map(lambda x: x.replace('-','/'))\n",
    "state_daily_df.to_excel(path+'state_daily_df.xlsx', index=False)"
   ]
  },
  {
   "cell_type": "markdown",
   "metadata": {},
   "source": [
    "State test data"
   ]
  },
  {
   "cell_type": "code",
   "execution_count": 6,
   "metadata": {},
   "outputs": [],
   "source": [
    "state_test_df = pd.read_csv('https://api.covid19india.org/csv/latest/statewise_tested_numbers_data.csv')\n",
    "state_test_df = state_test_df.ffill(axis = 0)\n",
    "state_test_df = state_test_df.fillna(0)\n",
    "state_test_df.rename(columns = {'Updated On' : 'Date'}, inplace=True)\n",
    "state_test_df['Date'] = state_test_df['Date'].map(lambda x: datetime.datetime.strptime(x,'%d/%m/%Y').strftime('%Y/%m/%d'))\n",
    "state_test_df.to_excel(path+'state_test_df.xlsx',index=False)"
   ]
  },
  {
   "cell_type": "markdown",
   "metadata": {},
   "source": [
    "State vaccine data"
   ]
  },
  {
   "cell_type": "code",
   "execution_count": 7,
   "metadata": {},
   "outputs": [],
   "source": [
    "state_vaccine_df = pd.read_csv('http://api.covid19india.org/csv/latest/vaccine_doses_statewise.csv')\n",
    "state_vaccine_df = pd.melt(state_vaccine_df, id_vars =['State'], value_vars = state_vaccine_df.columns[1:])\n",
    "state_vaccine_df.columns = ['State', 'Date', 'Total Vaccinated']\n",
    "states = state_vaccine_df['State'].unique()\n",
    "state_vaccine_df = state_vaccine_df.sort_values(by=['State', 'Date'], ascending = True)\n",
    "state_vaccine_df['Date'] = [datetime.datetime.strptime(i, '%d/%m/%Y').strftime('%m/%d/%Y') for i in state_vaccine_df['Date']]\n",
    "state_vaccine_df = state_vaccine_df.groupby(by=['State','Date']).sum()\n",
    "state_vaccine_df['Total Vaccinated'] = state_vaccine_df['Total Vaccinated'].astype(int).replace({0:None})\n",
    "state_vaccine_df['Total Vaccinated'] = state_vaccine_df['Total Vaccinated'].ffill()\n",
    "state_vaccine_df['Total Vaccinated'] = state_vaccine_df['Total Vaccinated'].fillna(0)\n",
    "state_vaccine_df['Daily Vaccinated'] = 0\n",
    "\n",
    "final_df = pd.DataFrame()\n",
    "\n",
    "for s in states:\n",
    "    temp_df = state_vaccine_df.loc[(s,),:]\n",
    "    temp_df = temp_df.reset_index()\n",
    "    values = temp_df.values\n",
    "    start = values[0][0]\n",
    "    end = values[-1][0]\n",
    "    date_df = pd.DataFrame({'Date': pd.date_range(start=start, end=end)})\n",
    "    temp_df['Date'] = [datetime.datetime.strptime(i, '%m/%d/%Y').strftime('%Y-%m-%d') for i in temp_df['Date']]\n",
    "    date_df['Date'] = date_df['Date'].astype(str)\n",
    "    temp_df['Date'] = temp_df['Date'].astype(str)\n",
    "    temp_df = date_df.merge(temp_df, on='Date', how='left')\n",
    "    temp_df['Total Vaccinated'] = temp_df['Total Vaccinated'].fillna(0).astype(int).replace({0:None})\n",
    "    temp_df['Total Vaccinated'] = temp_df['Total Vaccinated'].ffill()\n",
    "    temp_df['Total Vaccinated'] = temp_df['Total Vaccinated'].fillna(0)\n",
    "    values = temp_df.values\n",
    "    for i in range(0,len(temp_df)):\n",
    "        if(i==0):\n",
    "            values[i][2] = 0\n",
    "        else:\n",
    "            values[i][2] = values[i][1] - values[i-1][1]\n",
    "    values = np.hstack((np.full(shape=(values.shape[0],1), fill_value=s),values))\n",
    "    temp_df = pd.DataFrame(values)\n",
    "    final_df = final_df.append(temp_df)\n",
    "\n",
    "state_vaccine_df = final_df\n",
    "\n",
    "state_vaccine_df.columns = ['State', 'Date', 'Total Vaccinated', 'Daily Vaccinated']\n",
    "state_vaccine_df['Total Vaccinated'] = state_vaccine_df['Total Vaccinated'].map(lambda x: abs(x))\n",
    "state_vaccine_df['Daily Vaccinated'] = state_vaccine_df['Daily Vaccinated'].map(lambda x: abs(x))\n",
    "state_vaccine_df = state_vaccine_df.fillna(0)\n",
    "state_vaccine_df = state_vaccine_df[~state_vaccine_df['State'].str.contains('Miscellaneous|Total')]\n",
    "state_vaccine_df.to_excel(path+'state_vaccine_df.xlsx',index=False)"
   ]
  },
  {
   "cell_type": "markdown",
   "metadata": {},
   "source": [
    "World data"
   ]
  },
  {
   "cell_type": "code",
   "execution_count": 8,
   "metadata": {},
   "outputs": [],
   "source": [
    "world_df_time_c = pd.read_csv('https://raw.githubusercontent.com/CSSEGISandData/COVID-19/master/csse_covid_19_data/csse_covid_19_time_series/time_series_covid19_confirmed_global.csv',error_bad_lines=False)\n",
    "world_df_time_c = world_df_time_c.drop(['Province/State'],1)\n",
    "world_df_time_c = pd.melt(world_df_time_c, id_vars =['Country/Region'], value_vars = world_df_time_c.columns[3:])\n",
    "world_df_time_c.columns = ['Country','Date','Confirmed']\n",
    "world_df_time_c = world_df_time_c.sort_values(by=['Date','Confirmed'], ascending=False).reset_index()\n",
    "world_df_time_c = world_df_time_c.drop(['index','Date'],1)\n",
    "world_df_time_c['Rank'] = 0\n",
    "\n",
    "df_values = []\n",
    "for i in range(0,len(world_df_time_c.values)):\n",
    "    if(world_df_time_c.values[i][0]=='India'):\n",
    "        df_values.append([world_df_time_c.values[i][0],world_df_time_c.values[i][1],i+1])\n",
    "        break\n",
    "    else:\n",
    "        df_values.append([world_df_time_c.values[i][0],world_df_time_c.values[i][1],i+1])\n",
    "        \n",
    "world_df_time_c = pd.DataFrame(df_values)\n",
    "\n",
    "world_df_time_c.columns = ['Country', 'Confirmed', 'Rank']\n",
    "world_df_time_c.to_excel(path+'world_df_confirmed.xlsx',index=False)"
   ]
  },
  {
   "cell_type": "markdown",
   "metadata": {},
   "source": [
    "Country wise testing data"
   ]
  },
  {
   "cell_type": "code",
   "execution_count": 12,
   "metadata": {},
   "outputs": [],
   "source": [
    "india_test_df = pd.read_csv('https://api.covid19india.org/csv/latest/tested_numbers_icmr_data.csv')\n",
    "india_test_df = india_test_df.ffill(axis = 0)\n",
    "india_test_df.fillna(0)\n",
    "india_test_df = india_test_df.iloc[:,1:29]\n",
    "\n",
    "for i in india_test_df.columns[1:]:\n",
    "    india_test_df[i] = india_test_df[i].map(lambda x: 0 if(x=='' or x==' ') else x).fillna(0).map(\n",
    "        lambda x: int(x.replace(',','')) if(isinstance(x,str)) else int(x))\n",
    "    \n",
    "india_test_df['Tested As Of'] = india_test_df['Tested As Of'].map(lambda x: datetime.datetime.strptime(x, '%d/%m/%Y').strftime('%Y/%m/%d'))\n",
    "india_test_df.rename(columns = {'Tested As Of' : 'Date'}, inplace = True)\n",
    "\n",
    "india_test_df['Daily Vaccinated'] = 0\n",
    "\n"
   ]
  },
  {
   "cell_type": "code",
   "execution_count": 16,
   "metadata": {},
   "outputs": [
    {
     "data": {
      "text/plain": [
       "Index(['Date', 'Daily RTPCR Samples Collected_ICMR Application',\n",
       "       'Total RTPCR Samples Collected_ICMR Application',\n",
       "       'Total Samples Tested', 'Total Individuals Tested',\n",
       "       'Total Positive Cases', 'Tests conducted by Private Labs',\n",
       "       'Positive cases from samples reported', 'Sample Reported today',\n",
       "       'HealthCare Workers Vaccinated (1st Dose)',\n",
       "       'HealthCare Workers Vaccinated (2nd Dose)',\n",
       "       'Frontline Workers Vaccinated (1st Dose)',\n",
       "       'Frontline Workers Vaccinated (2nd Dose)', '18-44 Years (1st Dose)',\n",
       "       'Over 45 Years (1st Dose)', 'Over 45 Years (2nd Dose)',\n",
       "       '45 to 60 years with Co-morbidities (1st Dose)',\n",
       "       '45 to 60 years with Co-morbidities (2nd Dose)',\n",
       "       'Over 60 Years (1st Dose)', 'Over 60 Years (2nd Dose)',\n",
       "       'First Dose Administered', 'Second Dose Administered',\n",
       "       'Registration (Online)', 'Registration (Onspot)',\n",
       "       'Registration (FLW&HCW)', 'Registration (18-45 Years)',\n",
       "       'Registration (Above 45 Years)', 'Total Doses Administered',\n",
       "       'Daily Vaccinated'],\n",
       "      dtype='object')"
      ]
     },
     "execution_count": 16,
     "metadata": {},
     "output_type": "execute_result"
    }
   ],
   "source": [
    "india_test_df.columns"
   ]
  },
  {
   "cell_type": "code",
   "execution_count": 14,
   "metadata": {},
   "outputs": [
    {
     "ename": "KeyError",
     "evalue": "'Total Individuals Vaccinated'",
     "output_type": "error",
     "traceback": [
      "\u001b[1;31m---------------------------------------------------------------------------\u001b[0m",
      "\u001b[1;31mKeyError\u001b[0m                                  Traceback (most recent call last)",
      "\u001b[1;32mC:\\ProgramData\\Anaconda3\\lib\\site-packages\\pandas\\core\\indexes\\base.py\u001b[0m in \u001b[0;36mget_loc\u001b[1;34m(self, key, method, tolerance)\u001b[0m\n\u001b[0;32m   2894\u001b[0m             \u001b[1;32mtry\u001b[0m\u001b[1;33m:\u001b[0m\u001b[1;33m\u001b[0m\u001b[1;33m\u001b[0m\u001b[0m\n\u001b[1;32m-> 2895\u001b[1;33m                 \u001b[1;32mreturn\u001b[0m \u001b[0mself\u001b[0m\u001b[1;33m.\u001b[0m\u001b[0m_engine\u001b[0m\u001b[1;33m.\u001b[0m\u001b[0mget_loc\u001b[0m\u001b[1;33m(\u001b[0m\u001b[0mcasted_key\u001b[0m\u001b[1;33m)\u001b[0m\u001b[1;33m\u001b[0m\u001b[1;33m\u001b[0m\u001b[0m\n\u001b[0m\u001b[0;32m   2896\u001b[0m             \u001b[1;32mexcept\u001b[0m \u001b[0mKeyError\u001b[0m \u001b[1;32mas\u001b[0m \u001b[0merr\u001b[0m\u001b[1;33m:\u001b[0m\u001b[1;33m\u001b[0m\u001b[1;33m\u001b[0m\u001b[0m\n",
      "\u001b[1;32mpandas\\_libs\\index.pyx\u001b[0m in \u001b[0;36mpandas._libs.index.IndexEngine.get_loc\u001b[1;34m()\u001b[0m\n",
      "\u001b[1;32mpandas\\_libs\\index.pyx\u001b[0m in \u001b[0;36mpandas._libs.index.IndexEngine.get_loc\u001b[1;34m()\u001b[0m\n",
      "\u001b[1;32mpandas\\_libs\\hashtable_class_helper.pxi\u001b[0m in \u001b[0;36mpandas._libs.hashtable.PyObjectHashTable.get_item\u001b[1;34m()\u001b[0m\n",
      "\u001b[1;32mpandas\\_libs\\hashtable_class_helper.pxi\u001b[0m in \u001b[0;36mpandas._libs.hashtable.PyObjectHashTable.get_item\u001b[1;34m()\u001b[0m\n",
      "\u001b[1;31mKeyError\u001b[0m: 'Total Individuals Vaccinated'",
      "\nThe above exception was the direct cause of the following exception:\n",
      "\u001b[1;31mKeyError\u001b[0m                                  Traceback (most recent call last)",
      "\u001b[1;32m<ipython-input-14-bffd375879c3>\u001b[0m in \u001b[0;36m<module>\u001b[1;34m\u001b[0m\n\u001b[0;32m      2\u001b[0m     \u001b[1;32mif\u001b[0m\u001b[1;33m(\u001b[0m\u001b[0mi\u001b[0m\u001b[1;33m==\u001b[0m\u001b[1;36m0\u001b[0m\u001b[1;33m)\u001b[0m\u001b[1;33m:\u001b[0m\u001b[1;33m\u001b[0m\u001b[1;33m\u001b[0m\u001b[0m\n\u001b[0;32m      3\u001b[0m         \u001b[1;32mcontinue\u001b[0m\u001b[1;33m\u001b[0m\u001b[1;33m\u001b[0m\u001b[0m\n\u001b[1;32m----> 4\u001b[1;33m     \u001b[0mvalue\u001b[0m \u001b[1;33m=\u001b[0m \u001b[0mindia_test_df\u001b[0m\u001b[1;33m.\u001b[0m\u001b[0mloc\u001b[0m\u001b[1;33m[\u001b[0m\u001b[0mi\u001b[0m\u001b[1;33m,\u001b[0m\u001b[1;34m'Total Individuals Vaccinated'\u001b[0m\u001b[1;33m]\u001b[0m \u001b[1;33m-\u001b[0m \u001b[0mindia_test_df\u001b[0m\u001b[1;33m.\u001b[0m\u001b[0mloc\u001b[0m\u001b[1;33m[\u001b[0m\u001b[0mi\u001b[0m\u001b[1;33m-\u001b[0m\u001b[1;36m1\u001b[0m\u001b[1;33m,\u001b[0m\u001b[1;34m'Total Individuals Vaccinated'\u001b[0m\u001b[1;33m]\u001b[0m\u001b[1;33m\u001b[0m\u001b[1;33m\u001b[0m\u001b[0m\n\u001b[0m\u001b[0;32m      5\u001b[0m     \u001b[1;32mif\u001b[0m\u001b[1;33m(\u001b[0m\u001b[0mvalue\u001b[0m\u001b[1;33m==\u001b[0m\u001b[1;36m0\u001b[0m\u001b[1;33m)\u001b[0m\u001b[1;33m:\u001b[0m\u001b[1;33m\u001b[0m\u001b[1;33m\u001b[0m\u001b[0m\n\u001b[0;32m      6\u001b[0m         \u001b[0mindia_test_df\u001b[0m\u001b[1;33m.\u001b[0m\u001b[0mloc\u001b[0m\u001b[1;33m[\u001b[0m\u001b[0mi\u001b[0m\u001b[1;33m,\u001b[0m\u001b[1;34m'Daily Vaccinated'\u001b[0m\u001b[1;33m]\u001b[0m \u001b[1;33m=\u001b[0m \u001b[0mabs\u001b[0m\u001b[1;33m(\u001b[0m\u001b[0mindia_test_df\u001b[0m\u001b[1;33m.\u001b[0m\u001b[0mloc\u001b[0m\u001b[1;33m[\u001b[0m\u001b[0mi\u001b[0m\u001b[1;33m-\u001b[0m\u001b[1;36m1\u001b[0m\u001b[1;33m,\u001b[0m\u001b[1;34m'Daily Vaccinated'\u001b[0m\u001b[1;33m]\u001b[0m\u001b[1;33m)\u001b[0m\u001b[1;33m\u001b[0m\u001b[1;33m\u001b[0m\u001b[0m\n",
      "\u001b[1;32mC:\\ProgramData\\Anaconda3\\lib\\site-packages\\pandas\\core\\indexing.py\u001b[0m in \u001b[0;36m__getitem__\u001b[1;34m(self, key)\u001b[0m\n\u001b[0;32m    871\u001b[0m                     \u001b[1;31m# AttributeError for IntervalTree get_value\u001b[0m\u001b[1;33m\u001b[0m\u001b[1;33m\u001b[0m\u001b[1;33m\u001b[0m\u001b[0m\n\u001b[0;32m    872\u001b[0m                     \u001b[1;32mpass\u001b[0m\u001b[1;33m\u001b[0m\u001b[1;33m\u001b[0m\u001b[0m\n\u001b[1;32m--> 873\u001b[1;33m             \u001b[1;32mreturn\u001b[0m \u001b[0mself\u001b[0m\u001b[1;33m.\u001b[0m\u001b[0m_getitem_tuple\u001b[0m\u001b[1;33m(\u001b[0m\u001b[0mkey\u001b[0m\u001b[1;33m)\u001b[0m\u001b[1;33m\u001b[0m\u001b[1;33m\u001b[0m\u001b[0m\n\u001b[0m\u001b[0;32m    874\u001b[0m         \u001b[1;32melse\u001b[0m\u001b[1;33m:\u001b[0m\u001b[1;33m\u001b[0m\u001b[1;33m\u001b[0m\u001b[0m\n\u001b[0;32m    875\u001b[0m             \u001b[1;31m# we by definition only have the 0th axis\u001b[0m\u001b[1;33m\u001b[0m\u001b[1;33m\u001b[0m\u001b[1;33m\u001b[0m\u001b[0m\n",
      "\u001b[1;32mC:\\ProgramData\\Anaconda3\\lib\\site-packages\\pandas\\core\\indexing.py\u001b[0m in \u001b[0;36m_getitem_tuple\u001b[1;34m(self, tup)\u001b[0m\n\u001b[0;32m   1042\u001b[0m     \u001b[1;32mdef\u001b[0m \u001b[0m_getitem_tuple\u001b[0m\u001b[1;33m(\u001b[0m\u001b[0mself\u001b[0m\u001b[1;33m,\u001b[0m \u001b[0mtup\u001b[0m\u001b[1;33m:\u001b[0m \u001b[0mTuple\u001b[0m\u001b[1;33m)\u001b[0m\u001b[1;33m:\u001b[0m\u001b[1;33m\u001b[0m\u001b[1;33m\u001b[0m\u001b[0m\n\u001b[0;32m   1043\u001b[0m         \u001b[1;32mtry\u001b[0m\u001b[1;33m:\u001b[0m\u001b[1;33m\u001b[0m\u001b[1;33m\u001b[0m\u001b[0m\n\u001b[1;32m-> 1044\u001b[1;33m             \u001b[1;32mreturn\u001b[0m \u001b[0mself\u001b[0m\u001b[1;33m.\u001b[0m\u001b[0m_getitem_lowerdim\u001b[0m\u001b[1;33m(\u001b[0m\u001b[0mtup\u001b[0m\u001b[1;33m)\u001b[0m\u001b[1;33m\u001b[0m\u001b[1;33m\u001b[0m\u001b[0m\n\u001b[0m\u001b[0;32m   1045\u001b[0m         \u001b[1;32mexcept\u001b[0m \u001b[0mIndexingError\u001b[0m\u001b[1;33m:\u001b[0m\u001b[1;33m\u001b[0m\u001b[1;33m\u001b[0m\u001b[0m\n\u001b[0;32m   1046\u001b[0m             \u001b[1;32mpass\u001b[0m\u001b[1;33m\u001b[0m\u001b[1;33m\u001b[0m\u001b[0m\n",
      "\u001b[1;32mC:\\ProgramData\\Anaconda3\\lib\\site-packages\\pandas\\core\\indexing.py\u001b[0m in \u001b[0;36m_getitem_lowerdim\u001b[1;34m(self, tup)\u001b[0m\n\u001b[0;32m    808\u001b[0m                     \u001b[1;32mreturn\u001b[0m \u001b[0msection\u001b[0m\u001b[1;33m\u001b[0m\u001b[1;33m\u001b[0m\u001b[0m\n\u001b[0;32m    809\u001b[0m                 \u001b[1;31m# This is an elided recursive call to iloc/loc\u001b[0m\u001b[1;33m\u001b[0m\u001b[1;33m\u001b[0m\u001b[1;33m\u001b[0m\u001b[0m\n\u001b[1;32m--> 810\u001b[1;33m                 \u001b[1;32mreturn\u001b[0m \u001b[0mgetattr\u001b[0m\u001b[1;33m(\u001b[0m\u001b[0msection\u001b[0m\u001b[1;33m,\u001b[0m \u001b[0mself\u001b[0m\u001b[1;33m.\u001b[0m\u001b[0mname\u001b[0m\u001b[1;33m)\u001b[0m\u001b[1;33m[\u001b[0m\u001b[0mnew_key\u001b[0m\u001b[1;33m]\u001b[0m\u001b[1;33m\u001b[0m\u001b[1;33m\u001b[0m\u001b[0m\n\u001b[0m\u001b[0;32m    811\u001b[0m \u001b[1;33m\u001b[0m\u001b[0m\n\u001b[0;32m    812\u001b[0m         \u001b[1;32mraise\u001b[0m \u001b[0mIndexingError\u001b[0m\u001b[1;33m(\u001b[0m\u001b[1;34m\"not applicable\"\u001b[0m\u001b[1;33m)\u001b[0m\u001b[1;33m\u001b[0m\u001b[1;33m\u001b[0m\u001b[0m\n",
      "\u001b[1;32mC:\\ProgramData\\Anaconda3\\lib\\site-packages\\pandas\\core\\indexing.py\u001b[0m in \u001b[0;36m__getitem__\u001b[1;34m(self, key)\u001b[0m\n\u001b[0;32m    877\u001b[0m \u001b[1;33m\u001b[0m\u001b[0m\n\u001b[0;32m    878\u001b[0m             \u001b[0mmaybe_callable\u001b[0m \u001b[1;33m=\u001b[0m \u001b[0mcom\u001b[0m\u001b[1;33m.\u001b[0m\u001b[0mapply_if_callable\u001b[0m\u001b[1;33m(\u001b[0m\u001b[0mkey\u001b[0m\u001b[1;33m,\u001b[0m \u001b[0mself\u001b[0m\u001b[1;33m.\u001b[0m\u001b[0mobj\u001b[0m\u001b[1;33m)\u001b[0m\u001b[1;33m\u001b[0m\u001b[1;33m\u001b[0m\u001b[0m\n\u001b[1;32m--> 879\u001b[1;33m             \u001b[1;32mreturn\u001b[0m \u001b[0mself\u001b[0m\u001b[1;33m.\u001b[0m\u001b[0m_getitem_axis\u001b[0m\u001b[1;33m(\u001b[0m\u001b[0mmaybe_callable\u001b[0m\u001b[1;33m,\u001b[0m \u001b[0maxis\u001b[0m\u001b[1;33m=\u001b[0m\u001b[0maxis\u001b[0m\u001b[1;33m)\u001b[0m\u001b[1;33m\u001b[0m\u001b[1;33m\u001b[0m\u001b[0m\n\u001b[0m\u001b[0;32m    880\u001b[0m \u001b[1;33m\u001b[0m\u001b[0m\n\u001b[0;32m    881\u001b[0m     \u001b[1;32mdef\u001b[0m \u001b[0m_is_scalar_access\u001b[0m\u001b[1;33m(\u001b[0m\u001b[0mself\u001b[0m\u001b[1;33m,\u001b[0m \u001b[0mkey\u001b[0m\u001b[1;33m:\u001b[0m \u001b[0mTuple\u001b[0m\u001b[1;33m)\u001b[0m\u001b[1;33m:\u001b[0m\u001b[1;33m\u001b[0m\u001b[1;33m\u001b[0m\u001b[0m\n",
      "\u001b[1;32mC:\\ProgramData\\Anaconda3\\lib\\site-packages\\pandas\\core\\indexing.py\u001b[0m in \u001b[0;36m_getitem_axis\u001b[1;34m(self, key, axis)\u001b[0m\n\u001b[0;32m   1108\u001b[0m         \u001b[1;31m# fall thru to straight lookup\u001b[0m\u001b[1;33m\u001b[0m\u001b[1;33m\u001b[0m\u001b[1;33m\u001b[0m\u001b[0m\n\u001b[0;32m   1109\u001b[0m         \u001b[0mself\u001b[0m\u001b[1;33m.\u001b[0m\u001b[0m_validate_key\u001b[0m\u001b[1;33m(\u001b[0m\u001b[0mkey\u001b[0m\u001b[1;33m,\u001b[0m \u001b[0maxis\u001b[0m\u001b[1;33m)\u001b[0m\u001b[1;33m\u001b[0m\u001b[1;33m\u001b[0m\u001b[0m\n\u001b[1;32m-> 1110\u001b[1;33m         \u001b[1;32mreturn\u001b[0m \u001b[0mself\u001b[0m\u001b[1;33m.\u001b[0m\u001b[0m_get_label\u001b[0m\u001b[1;33m(\u001b[0m\u001b[0mkey\u001b[0m\u001b[1;33m,\u001b[0m \u001b[0maxis\u001b[0m\u001b[1;33m=\u001b[0m\u001b[0maxis\u001b[0m\u001b[1;33m)\u001b[0m\u001b[1;33m\u001b[0m\u001b[1;33m\u001b[0m\u001b[0m\n\u001b[0m\u001b[0;32m   1111\u001b[0m \u001b[1;33m\u001b[0m\u001b[0m\n\u001b[0;32m   1112\u001b[0m     \u001b[1;32mdef\u001b[0m \u001b[0m_get_slice_axis\u001b[0m\u001b[1;33m(\u001b[0m\u001b[0mself\u001b[0m\u001b[1;33m,\u001b[0m \u001b[0mslice_obj\u001b[0m\u001b[1;33m:\u001b[0m \u001b[0mslice\u001b[0m\u001b[1;33m,\u001b[0m \u001b[0maxis\u001b[0m\u001b[1;33m:\u001b[0m \u001b[0mint\u001b[0m\u001b[1;33m)\u001b[0m\u001b[1;33m:\u001b[0m\u001b[1;33m\u001b[0m\u001b[1;33m\u001b[0m\u001b[0m\n",
      "\u001b[1;32mC:\\ProgramData\\Anaconda3\\lib\\site-packages\\pandas\\core\\indexing.py\u001b[0m in \u001b[0;36m_get_label\u001b[1;34m(self, label, axis)\u001b[0m\n\u001b[0;32m   1057\u001b[0m     \u001b[1;32mdef\u001b[0m \u001b[0m_get_label\u001b[0m\u001b[1;33m(\u001b[0m\u001b[0mself\u001b[0m\u001b[1;33m,\u001b[0m \u001b[0mlabel\u001b[0m\u001b[1;33m,\u001b[0m \u001b[0maxis\u001b[0m\u001b[1;33m:\u001b[0m \u001b[0mint\u001b[0m\u001b[1;33m)\u001b[0m\u001b[1;33m:\u001b[0m\u001b[1;33m\u001b[0m\u001b[1;33m\u001b[0m\u001b[0m\n\u001b[0;32m   1058\u001b[0m         \u001b[1;31m# GH#5667 this will fail if the label is not present in the axis.\u001b[0m\u001b[1;33m\u001b[0m\u001b[1;33m\u001b[0m\u001b[1;33m\u001b[0m\u001b[0m\n\u001b[1;32m-> 1059\u001b[1;33m         \u001b[1;32mreturn\u001b[0m \u001b[0mself\u001b[0m\u001b[1;33m.\u001b[0m\u001b[0mobj\u001b[0m\u001b[1;33m.\u001b[0m\u001b[0mxs\u001b[0m\u001b[1;33m(\u001b[0m\u001b[0mlabel\u001b[0m\u001b[1;33m,\u001b[0m \u001b[0maxis\u001b[0m\u001b[1;33m=\u001b[0m\u001b[0maxis\u001b[0m\u001b[1;33m)\u001b[0m\u001b[1;33m\u001b[0m\u001b[1;33m\u001b[0m\u001b[0m\n\u001b[0m\u001b[0;32m   1060\u001b[0m \u001b[1;33m\u001b[0m\u001b[0m\n\u001b[0;32m   1061\u001b[0m     \u001b[1;32mdef\u001b[0m \u001b[0m_handle_lowerdim_multi_index_axis0\u001b[0m\u001b[1;33m(\u001b[0m\u001b[0mself\u001b[0m\u001b[1;33m,\u001b[0m \u001b[0mtup\u001b[0m\u001b[1;33m:\u001b[0m \u001b[0mTuple\u001b[0m\u001b[1;33m)\u001b[0m\u001b[1;33m:\u001b[0m\u001b[1;33m\u001b[0m\u001b[1;33m\u001b[0m\u001b[0m\n",
      "\u001b[1;32mC:\\ProgramData\\Anaconda3\\lib\\site-packages\\pandas\\core\\generic.py\u001b[0m in \u001b[0;36mxs\u001b[1;34m(self, key, axis, level, drop_level)\u001b[0m\n\u001b[0;32m   3489\u001b[0m             \u001b[0mloc\u001b[0m\u001b[1;33m,\u001b[0m \u001b[0mnew_index\u001b[0m \u001b[1;33m=\u001b[0m \u001b[0mself\u001b[0m\u001b[1;33m.\u001b[0m\u001b[0mindex\u001b[0m\u001b[1;33m.\u001b[0m\u001b[0mget_loc_level\u001b[0m\u001b[1;33m(\u001b[0m\u001b[0mkey\u001b[0m\u001b[1;33m,\u001b[0m \u001b[0mdrop_level\u001b[0m\u001b[1;33m=\u001b[0m\u001b[0mdrop_level\u001b[0m\u001b[1;33m)\u001b[0m\u001b[1;33m\u001b[0m\u001b[1;33m\u001b[0m\u001b[0m\n\u001b[0;32m   3490\u001b[0m         \u001b[1;32melse\u001b[0m\u001b[1;33m:\u001b[0m\u001b[1;33m\u001b[0m\u001b[1;33m\u001b[0m\u001b[0m\n\u001b[1;32m-> 3491\u001b[1;33m             \u001b[0mloc\u001b[0m \u001b[1;33m=\u001b[0m \u001b[0mself\u001b[0m\u001b[1;33m.\u001b[0m\u001b[0mindex\u001b[0m\u001b[1;33m.\u001b[0m\u001b[0mget_loc\u001b[0m\u001b[1;33m(\u001b[0m\u001b[0mkey\u001b[0m\u001b[1;33m)\u001b[0m\u001b[1;33m\u001b[0m\u001b[1;33m\u001b[0m\u001b[0m\n\u001b[0m\u001b[0;32m   3492\u001b[0m \u001b[1;33m\u001b[0m\u001b[0m\n\u001b[0;32m   3493\u001b[0m             \u001b[1;32mif\u001b[0m \u001b[0misinstance\u001b[0m\u001b[1;33m(\u001b[0m\u001b[0mloc\u001b[0m\u001b[1;33m,\u001b[0m \u001b[0mnp\u001b[0m\u001b[1;33m.\u001b[0m\u001b[0mndarray\u001b[0m\u001b[1;33m)\u001b[0m\u001b[1;33m:\u001b[0m\u001b[1;33m\u001b[0m\u001b[1;33m\u001b[0m\u001b[0m\n",
      "\u001b[1;32mC:\\ProgramData\\Anaconda3\\lib\\site-packages\\pandas\\core\\indexes\\base.py\u001b[0m in \u001b[0;36mget_loc\u001b[1;34m(self, key, method, tolerance)\u001b[0m\n\u001b[0;32m   2895\u001b[0m                 \u001b[1;32mreturn\u001b[0m \u001b[0mself\u001b[0m\u001b[1;33m.\u001b[0m\u001b[0m_engine\u001b[0m\u001b[1;33m.\u001b[0m\u001b[0mget_loc\u001b[0m\u001b[1;33m(\u001b[0m\u001b[0mcasted_key\u001b[0m\u001b[1;33m)\u001b[0m\u001b[1;33m\u001b[0m\u001b[1;33m\u001b[0m\u001b[0m\n\u001b[0;32m   2896\u001b[0m             \u001b[1;32mexcept\u001b[0m \u001b[0mKeyError\u001b[0m \u001b[1;32mas\u001b[0m \u001b[0merr\u001b[0m\u001b[1;33m:\u001b[0m\u001b[1;33m\u001b[0m\u001b[1;33m\u001b[0m\u001b[0m\n\u001b[1;32m-> 2897\u001b[1;33m                 \u001b[1;32mraise\u001b[0m \u001b[0mKeyError\u001b[0m\u001b[1;33m(\u001b[0m\u001b[0mkey\u001b[0m\u001b[1;33m)\u001b[0m \u001b[1;32mfrom\u001b[0m \u001b[0merr\u001b[0m\u001b[1;33m\u001b[0m\u001b[1;33m\u001b[0m\u001b[0m\n\u001b[0m\u001b[0;32m   2898\u001b[0m \u001b[1;33m\u001b[0m\u001b[0m\n\u001b[0;32m   2899\u001b[0m         \u001b[1;32mif\u001b[0m \u001b[0mtolerance\u001b[0m \u001b[1;32mis\u001b[0m \u001b[1;32mnot\u001b[0m \u001b[1;32mNone\u001b[0m\u001b[1;33m:\u001b[0m\u001b[1;33m\u001b[0m\u001b[1;33m\u001b[0m\u001b[0m\n",
      "\u001b[1;31mKeyError\u001b[0m: 'Total Individuals Vaccinated'"
     ]
    }
   ],
   "source": [
    "for i in range(0,len(india_test_df)):\n",
    "    if(i==0):\n",
    "        continue\n",
    "    value = india_test_df.loc[i,'Total Individuals Vaccinated'] - india_test_df.loc[i-1,'Total Individuals Vaccinated']\n",
    "    if(value==0):\n",
    "        india_test_df.loc[i,'Daily Vaccinated'] = abs(india_test_df.loc[i-1,'Daily Vaccinated'])\n",
    "        india_test_df.loc[i,'Total Individuals Vaccinated'] =  abs(india_test_df.loc[i-1,'Total Individuals Vaccinated'] + india_test_df.loc[i,'Daily Vaccinated'])\n",
    "    else:\n",
    "        india_test_df.loc[i,'Daily Vaccinated'] = value\n",
    "        \n",
    "india_test_df.to_excel(path+'india_test_df.xlsx', index=False)"
   ]
  },
  {
   "cell_type": "markdown",
   "metadata": {},
   "source": [
    "State wise data"
   ]
  },
  {
   "cell_type": "code",
   "execution_count": null,
   "metadata": {},
   "outputs": [],
   "source": [
    "state_df = state_daily_df.groupby(by='State').max().reset_index()\n",
    "del state_df['Date']\n",
    "for c in state_df.columns[2:]:\n",
    "    state_df[c] = state_df[c].astype(int)\n",
    "state_df['Daily Active'] = state_df['Daily Confirmed'] -state_df['Daily Deceased'] -state_df['Daily Recovered'] \n",
    "state_df['Total Active'] = state_df['Total Confirmed'] -state_df['Total Deceased'] -state_df['Total Recovered'] \n",
    "state_df = state_df.merge(state_vaccine_df.groupby(by='State').max(),on='State',how='outer')\n",
    "\n",
    "state_df['Population'] = [417036,53903393,1570458,35607039,124799926,\n",
    "                        1158473,29436231,615724,18710922,1586250,\n",
    "                        63872399,28204692,7451955,13606320,38593948,\n",
    "                        67562686,35699443,289023,73183,85358965,\n",
    "                        123144223,3091545,3366710,1239244,2249695,\n",
    "                        46356334,1413542,30141373,81032689,690251,\n",
    "                        0,77841267,39362732,4169794,237882725,11250858,\n",
    "                        99609303]\n",
    "\n",
    "state_df = state_df.sort_values(by='Total Confirmed', ascending = False).reset_index()\n",
    "state_df['Rank'] = list(range(1,len(state_df)+1))\n",
    "del state_df['index']\n",
    "state_df.to_excel(path+'state_df.xlsx', index=False)"
   ]
  },
  {
   "cell_type": "markdown",
   "metadata": {},
   "source": [
    "Hospital data"
   ]
  },
  {
   "cell_type": "code",
   "execution_count": null,
   "metadata": {},
   "outputs": [],
   "source": [
    "hospital_df = pd.read_csv('hospital_df.csv')\n",
    "for c in hospital_df.columns[1:]:\n",
    "    hospital_df[c] = hospital_df[c].astype(str).str.replace(',','').astype(int)\n",
    "    \n",
    "hospital_df = hospital_df.sort_values(by=' States/UTs')\n",
    "keys = sorted(hospital_df[' States/UTs'].unique())\n",
    "vals = sorted(state_df['State'].unique())\n",
    "vals.insert(8,'Dadra and Nagar Haveli and Daman and Diu')\n",
    "vals.remove('State Unassigned')\n",
    "hospital_df[' States/UTs'] = hospital_df[' States/UTs'].replace(dict(zip(keys,vals)))\n",
    "hospital_df = hospital_df.groupby(by=' States/UTs').sum()\n",
    "hospital_df = hospital_df.reset_index()\n",
    "hospital_df.to_excel(path+'hospital_df.xlsx', index=False)"
   ]
  }
 ],
 "metadata": {
  "kernelspec": {
   "display_name": "Python 3",
   "language": "python",
   "name": "python3"
  },
  "language_info": {
   "codemirror_mode": {
    "name": "ipython",
    "version": 3
   },
   "file_extension": ".py",
   "mimetype": "text/x-python",
   "name": "python",
   "nbconvert_exporter": "python",
   "pygments_lexer": "ipython3",
   "version": "3.8.5"
  }
 },
 "nbformat": 4,
 "nbformat_minor": 4
}
