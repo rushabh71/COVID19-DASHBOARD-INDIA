{
 "cells": [
  {
   "cell_type": "markdown",
   "metadata": {},
   "source": [
    "## COVID 19 DATA CLEANING INDIA"
   ]
  },
  {
   "cell_type": "markdown",
   "metadata": {},
   "source": [
    "Author: Rushabh Patel\n",
    "\n",
    "Dashboard: \n",
    "1. https://covid19-dashboard-india.000webhostapp.com/index.html\n",
    "2. https://public.tableau.com/views/COVID_FINAL/Home?:language=en&:display_count=y&publish=yes&:origin=viz_share_link\n",
    "\n",
    "Data Sources:\n",
    "1. https://api.covid19india.org/\n",
    "2. https://raw.githubusercontent.com/CSSEGISandData/COVID-19/master/csse_covid_19_data/csse_covid_19_time_series/time_series_covid19_confirmed_global.csv"
   ]
  },
  {
   "cell_type": "markdown",
   "metadata": {},
   "source": [
    "Importing libraries"
   ]
  },
  {
   "cell_type": "code",
   "execution_count": 1,
   "metadata": {},
   "outputs": [],
   "source": [
    "import numpy as np\n",
    "import pandas as pd\n",
    "import math\n",
    "import datetime"
   ]
  },
  {
   "cell_type": "markdown",
   "metadata": {},
   "source": [
    "Setting up working directory"
   ]
  },
  {
   "cell_type": "code",
   "execution_count": 2,
   "metadata": {},
   "outputs": [],
   "source": [
    "path = 'C:/Users/rusha/Documents/COVID19/'"
   ]
  },
  {
   "cell_type": "markdown",
   "metadata": {},
   "source": [
    "Country wise timeseries data"
   ]
  },
  {
   "cell_type": "code",
   "execution_count": 3,
   "metadata": {},
   "outputs": [],
   "source": [
    "india_df = pd.read_csv('https://api.covid19india.org/csv/latest/case_time_series.csv')\n",
    "\n",
    "#dropping & renaming columns\n",
    "india_df = india_df.drop('Date',1)\n",
    "india_df.rename(columns = {'Date_YMD' : 'Date'}, inplace=True)\n",
    "\n",
    "india_df.to_excel(path+'india_df.xlsx', index=False)"
   ]
  },
  {
   "cell_type": "markdown",
   "metadata": {},
   "source": [
    "District wise data"
   ]
  },
  {
   "cell_type": "code",
   "execution_count": 4,
   "metadata": {},
   "outputs": [],
   "source": [
    "district_df = pd.read_csv('https://api.covid19india.org/csv/latest/district_wise.csv')\n",
    "\n",
    "#dropping & renaming columns\n",
    "district_df = district_df.drop(['SlNo'], 1)\n",
    "district_df = district_df.drop([0], 0)\n",
    "\n",
    "district_df.to_excel(path+'district_df.xlsx', index=False)"
   ]
  },
  {
   "cell_type": "markdown",
   "metadata": {},
   "source": [
    "State wise timeseries data"
   ]
  },
  {
   "cell_type": "code",
   "execution_count": 5,
   "metadata": {},
   "outputs": [],
   "source": [
    "state_daily_df = pd.read_csv('https://api.covid19india.org/csv/latest/states.csv')\n",
    "\n",
    "#filling none values with 0 and manupilating the dataframe to bring it in the right format\n",
    "state_daily_df = state_daily_df.fillna(0)\n",
    "state_daily_df = state_daily_df.loc[state_daily_df['State']!='India',:].reset_index()\n",
    "state_daily_df = state_daily_df.groupby(['State','Date']).sum()\n",
    "state_daily_df = state_daily_df.reset_index()\n",
    "\n",
    "#creating new columns\n",
    "state_daily_df['Daily Confirmed'] = 0\n",
    "state_daily_df['Daily Recovered'] = 0\n",
    "state_daily_df['Daily Deceased'] = 0\n",
    "state_daily_df['Daily Tested'] = 0\n",
    "\n",
    "#calculating and assigning values to above created columns\n",
    "for i in range(0,len(state_daily_df)):\n",
    "    if(i>0 and state_daily_df.loc[i,'Confirmed'] >= 0):\n",
    "        state_daily_df.loc[i,'Daily Confirmed'] = state_daily_df.loc[i,'Confirmed'] - state_daily_df.loc[i-1,'Confirmed']\n",
    "        state_daily_df.loc[i,'Daily Recovered'] = state_daily_df.loc[i,'Recovered'] - state_daily_df.loc[i-1,'Recovered']\n",
    "        state_daily_df.loc[i,'Daily Deceased'] = state_daily_df.loc[i,'Deceased'] - state_daily_df.loc[i-1,'Deceased']\n",
    "        state_daily_df.loc[i,'Daily Tested'] = state_daily_df.loc[i,'Tested'] - state_daily_df.loc[i-1,'Tested']\n",
    "    elif(i==0 and state_daily_df.loc[i,'Confirmed'] >= 0):\n",
    "        state_daily_df.loc[i,'Daily Confirmed'] = state_daily_df.loc[i,'Confirmed']\n",
    "        state_daily_df.loc[i,'Daily Recovered'] = state_daily_df.loc[i,'Recovered']\n",
    "        state_daily_df.loc[i,'Daily Deceased'] = state_daily_df.loc[i,'Deceased']\n",
    "        state_daily_df.loc[i,'Daily Tested'] = state_daily_df.loc[i,'Tested']\n",
    "        \n",
    "\n",
    "#deleting unnecessary column\n",
    "del state_daily_df['index']\n",
    "\n",
    "\n",
    "#forward filling values as per states\n",
    "df_values = state_daily_df.values\n",
    "\n",
    "for i in range(0,len(df_values)):\n",
    "    state = df_values[i][0]\n",
    "    daily_confirmed = df_values[i][7]\n",
    "    daily_recovered = df_values[i][8]\n",
    "    daily_deceased = df_values[i][9]\n",
    "    daily_tested = df_values[i][10]\n",
    "    \n",
    "    if(daily_confirmed<0 and df_values[i-1][0]==df_values[i][0]):\n",
    "        df_values[i][7] = state_daily_df.values[i-1][7]\n",
    "    elif(daily_recovered<0 and df_values[i-1][0]==df_values[i][0]):\n",
    "        df_values[i][8] = df_values[i-1][8]\n",
    "    elif(daily_deceased<0 and df_values[i-1][0]==df_values[i][0]):\n",
    "        df_values[i][9] = df_values[i-1][9]\n",
    "    elif(daily_tested<0 and df_values[i-1][0]==df_values[i][0]):\n",
    "        df_values[i][10] = df_values[i-1][10]\n",
    "\n",
    "\n",
    "#creating final dataframe\n",
    "state_daily_df = pd.DataFrame(df_values)\n",
    "\n",
    "#manupilating and renaming columns with meaningful name\n",
    "state_daily_df.columns = ['State', 'Date','Total Confirmed','Total Recovered','Total Deceased','Other','Total Tested',\n",
    "                          'Daily Confirmed','Daily Recovered', 'Daily Deceased','Daily Tested']\n",
    "state_daily_df['Date'] = state_daily_df['Date'].map(lambda x: x.replace('-','/'))\n",
    "\n",
    "state_daily_df.to_excel(path+'state_daily_df.xlsx', index=False)"
   ]
  },
  {
   "cell_type": "markdown",
   "metadata": {},
   "source": [
    "State wise testing data"
   ]
  },
  {
   "cell_type": "code",
   "execution_count": 22,
   "metadata": {},
   "outputs": [],
   "source": [
    "state_test_df = pd.read_csv('https://api.covid19india.org/csv/latest/statewise_tested_numbers_data.csv')\n",
    "\n",
    "#preprocessing dataframe\n",
    "state_test_df = state_test_df.ffill(axis = 0)\n",
    "state_test_df = state_test_df.fillna(0)\n",
    "state_test_df.rename(columns = {'Updated On' : 'Date'}, inplace=True)\n",
    "state_test_df['Date'] = state_test_df['Date'].map(lambda x: datetime.datetime.strptime(x,'%d/%m/%Y').strftime('%Y/%m/%d'))\n",
    "\n",
    "#finding the average values of symptomatic and asymptomatic cases from all the states\n",
    "avg_symptomatic_cases = int(np.mean(state_test_df['Cumulative Number of Symptomatic Cases']))\n",
    "avg_asymptomatic_cases = int(np.mean(state_test_df['Cumulative Number of Asymptomatic Cases']))\n",
    "\n",
    "#filling average values for the states with empty values/None in these columns\n",
    "state_test_df['Cumulative Number of Symptomatic Cases'] = state_test_df['Cumulative Number of Symptomatic Cases'].map(lambda x: avg_symptomatic_cases if(x==0) else x)\n",
    "state_test_df['Cumulative Number of Asymptomatic Cases'] = state_test_df['Cumulative Number of Asymptomatic Cases'].map(lambda x: avg_asymptomatic_cases if(x==0) else x)\n",
    "\n",
    "state_test_df.to_excel(path+'state_test_df.xlsx',index=False)"
   ]
  },
  {
   "cell_type": "markdown",
   "metadata": {},
   "source": [
    "State wise vaccine data"
   ]
  },
  {
   "cell_type": "code",
   "execution_count": 7,
   "metadata": {},
   "outputs": [],
   "source": [
    "state_vaccine_df = pd.read_csv('http://api.covid19india.org/csv/latest/vaccine_doses_statewise.csv')\n",
    "\n",
    "#melting the dataframe to bring in the right format\n",
    "state_vaccine_df = pd.melt(state_vaccine_df, id_vars =['State'], value_vars = state_vaccine_df.columns[1:])\n",
    "\n",
    "#renaming columns\n",
    "state_vaccine_df.columns = ['State', 'Date', 'Total Vaccinated']\n",
    "\n",
    "#bringing the dataframe in right format by matching the dates with other dataframe, filling empty values, \n",
    "#manupilating columns\n",
    "states = state_vaccine_df['State'].unique()\n",
    "state_vaccine_df = state_vaccine_df.sort_values(by=['State', 'Date'], ascending = True)\n",
    "state_vaccine_df['Date'] = [datetime.datetime.strptime(i, '%d/%m/%Y').strftime('%m/%d/%Y') for i in state_vaccine_df['Date']]\n",
    "state_vaccine_df = state_vaccine_df.groupby(by=['State','Date']).sum()\n",
    "state_vaccine_df['Total Vaccinated'] = state_vaccine_df['Total Vaccinated'].astype(int).replace({0:None})\n",
    "state_vaccine_df['Total Vaccinated'] = state_vaccine_df['Total Vaccinated'].ffill()\n",
    "state_vaccine_df['Total Vaccinated'] = state_vaccine_df['Total Vaccinated'].fillna(0)\n",
    "state_vaccine_df['Daily Vaccinated'] = 0\n",
    "\n",
    "final_df = pd.DataFrame()\n",
    "\n",
    "for s in states:\n",
    "    temp_df = state_vaccine_df.loc[(s,),:]\n",
    "    temp_df = temp_df.reset_index()\n",
    "    values = temp_df.values\n",
    "    start = values[0][0]\n",
    "    end = values[-1][0]\n",
    "    date_df = pd.DataFrame({'Date': pd.date_range(start=start, end=end)})\n",
    "    temp_df['Date'] = [datetime.datetime.strptime(i, '%m/%d/%Y').strftime('%Y-%m-%d') for i in temp_df['Date']]\n",
    "    date_df['Date'] = date_df['Date'].astype(str)\n",
    "    temp_df['Date'] = temp_df['Date'].astype(str)\n",
    "    temp_df = date_df.merge(temp_df, on='Date', how='left')\n",
    "    temp_df['Total Vaccinated'] = temp_df['Total Vaccinated'].fillna(0).astype(int).replace({0:None})\n",
    "    temp_df['Total Vaccinated'] = temp_df['Total Vaccinated'].ffill()\n",
    "    temp_df['Total Vaccinated'] = temp_df['Total Vaccinated'].fillna(0)\n",
    "    values = temp_df.values\n",
    "    for i in range(0,len(temp_df)):\n",
    "        if(i==0):\n",
    "            values[i][2] = 0\n",
    "        else:\n",
    "            values[i][2] = values[i][1] - values[i-1][1]\n",
    "    values = np.hstack((np.full(shape=(values.shape[0],1), fill_value=s),values))\n",
    "    temp_df = pd.DataFrame(values)\n",
    "    final_df = final_df.append(temp_df)\n",
    "\n",
    "state_vaccine_df = final_df\n",
    "\n",
    "#renaming columns and making each element absolute to avoid any typo error during data entry\n",
    "state_vaccine_df.columns = ['State', 'Date', 'Total Vaccinated', 'Daily Vaccinated']\n",
    "state_vaccine_df['Total Vaccinated'] = state_vaccine_df['Total Vaccinated'].map(lambda x: abs(x))\n",
    "state_vaccine_df['Daily Vaccinated'] = state_vaccine_df['Daily Vaccinated'].map(lambda x: abs(x))\n",
    "state_vaccine_df = state_vaccine_df.fillna(0)\n",
    "\n",
    "#removing unnecessary rows associated with the following state values \"Miscellaneous|Total\"\n",
    "state_vaccine_df = state_vaccine_df[~state_vaccine_df['State'].str.contains('Miscellaneous|Total')]\n",
    "\n",
    "state_vaccine_df.to_excel(path+'state_vaccine_df.xlsx',index=False)"
   ]
  },
  {
   "cell_type": "markdown",
   "metadata": {},
   "source": [
    "World wide confirmed cases data"
   ]
  },
  {
   "cell_type": "code",
   "execution_count": 8,
   "metadata": {},
   "outputs": [],
   "source": [
    "world_df_time_c = pd.read_csv('https://raw.githubusercontent.com/CSSEGISandData/COVID-19/master/csse_covid_19_data/csse_covid_19_time_series/time_series_covid19_confirmed_global.csv',error_bad_lines=False)\n",
    "\n",
    "#dropping a column\n",
    "world_df_time_c = world_df_time_c.drop(['Province/State'],1)\n",
    "\n",
    "#melting the dataframe\n",
    "world_df_time_c = pd.melt(world_df_time_c, id_vars =['Country/Region'], value_vars = world_df_time_c.columns[3:])\n",
    "\n",
    "#renaming columns\n",
    "world_df_time_c.columns = ['Country','Date','Confirmed']\n",
    "\n",
    "#sorting by date and confirmed cases\n",
    "world_df_time_c = world_df_time_c.sort_values(by=['Date','Confirmed'], ascending=False).reset_index()\n",
    "\n",
    "#dropping columns\n",
    "world_df_time_c = world_df_time_c.drop(['index','Date'],1)\n",
    "\n",
    "#creating new column for the rank based on confirmed cases\n",
    "world_df_time_c['Rank'] = 0\n",
    "\n",
    "#includ rows till we find india in the country column of the world dataframe and discard the remaining rows\n",
    "df_values = []\n",
    "for i in range(0,len(world_df_time_c.values)):\n",
    "    if(world_df_time_c.values[i][0]=='India'):\n",
    "        df_values.append([world_df_time_c.values[i][0],world_df_time_c.values[i][1],i+1])\n",
    "        break\n",
    "    else:\n",
    "        df_values.append([world_df_time_c.values[i][0],world_df_time_c.values[i][1],i+1])\n",
    "        \n",
    "\n",
    "#creating final dataframe\n",
    "world_df_time_c = pd.DataFrame(df_values)\n",
    "\n",
    "#renaming columns\n",
    "world_df_time_c.columns = ['Country', 'Confirmed', 'Rank']\n",
    "\n",
    "world_df_time_c.to_excel(path+'world_df_confirmed.xlsx',index=False)"
   ]
  },
  {
   "cell_type": "markdown",
   "metadata": {},
   "source": [
    "Country wise testing data"
   ]
  },
  {
   "cell_type": "code",
   "execution_count": 9,
   "metadata": {},
   "outputs": [],
   "source": [
    "india_test_df = pd.read_csv('https://api.covid19india.org/csv/latest/tested_numbers_icmr_data.csv')\n",
    "\n",
    "#filling empty values and dropping some columns\n",
    "india_test_df = india_test_df.ffill(axis = 0)\n",
    "india_test_df = india_test_df.drop(['Source', 'Source 2', 'Source 3', 'Source 4', \n",
    "                                    'Registration (Online)', 'Registration (Onspot)',\n",
    "                                    'Registration (FLW&HCW)', 'Registration (18-45 Years)',\n",
    "                                    'Registration (Above 45 Years)' ], axis = 1)\n",
    "\n",
    "#changing the data type of elements of every column\n",
    "for i in india_test_df.columns[2:]:\n",
    "    india_test_df[i] = india_test_df[i].map(lambda x: 0 if(x=='' or x==' ') else x).fillna(0).map(\n",
    "        lambda x: int(x.replace(',','')) if(isinstance(x,str)) else int(x))\n",
    "    \n",
    "#changing the date format and renaming the column\n",
    "india_test_df['Tested As Of'] = india_test_df['Tested As Of'].map(lambda x: datetime.datetime.strptime(x, '%d/%m/%Y').strftime('%Y/%m/%d'))\n",
    "india_test_df.rename(columns = {'Tested As Of' : 'Date'}, inplace = True)\n",
    "\n",
    "#creating a new column and assigning values to it\n",
    "india_test_df['Daily Vaccinated'] = 0\n",
    "\n",
    "for i in range(0,len(india_test_df)):\n",
    "    if(i==0):\n",
    "        continue\n",
    "    value = india_test_df.loc[i,'Total Individuals Vaccinated'] - india_test_df.loc[i-1,'Total Individuals Vaccinated']\n",
    "    if(value==0):\n",
    "        india_test_df.loc[i,'Daily Vaccinated'] = abs(india_test_df.loc[i-1,'Daily Vaccinated'])\n",
    "        india_test_df.loc[i,'Total Individuals Vaccinated'] =  abs(india_test_df.loc[i-1,'Total Individuals Vaccinated'] + india_test_df.loc[i,'Daily Vaccinated'])\n",
    "    else:\n",
    "        india_test_df.loc[i,'Daily Vaccinated'] = value\n",
    "        \n",
    "india_test_df.to_excel(path+'india_test_df.xlsx', index=False)"
   ]
  },
  {
   "cell_type": "markdown",
   "metadata": {},
   "source": [
    "State wise data"
   ]
  },
  {
   "cell_type": "code",
   "execution_count": 10,
   "metadata": {},
   "outputs": [],
   "source": [
    "state_df = state_daily_df.groupby(by='State').max().reset_index()\n",
    "\n",
    "#dropping Date column\n",
    "del state_df['Date']\n",
    "\n",
    "#changing data type of columns\n",
    "for c in state_df.columns[2:]:\n",
    "    state_df[c] = state_df[c].astype(int)\n",
    "    \n",
    "#calculating daily parameter values    \n",
    "state_df['Daily Active'] = state_df['Daily Confirmed'] -state_df['Daily Deceased'] -state_df['Daily Recovered'] \n",
    "state_df['Total Active'] = state_df['Total Confirmed'] -state_df['Total Deceased'] -state_df['Total Recovered'] \n",
    "state_df = state_df.merge(state_vaccine_df.groupby(by='State').max(),on='State',how='outer')\n",
    "\n",
    "#state wise population\n",
    "state_df['Population'] = [417036,53903393,1570458,35607039,124799926,\n",
    "                        1158473,29436231,615724,18710922,1586250,\n",
    "                        63872399,28204692,7451955,13606320,38593948,\n",
    "                        67562686,35699443,289023,73183,85358965,\n",
    "                        123144223,3091545,3366710,1239244,2249695,\n",
    "                        46356334,1413542,30141373,81032689,690251,\n",
    "                        0,77841267,39362732,4169794,237882725,11250858,\n",
    "                        99609303]\n",
    "\n",
    "#sorting the data by confirmed cases\n",
    "state_df = state_df.sort_values(by='Total Confirmed', ascending = False).reset_index()\n",
    "\n",
    "#assigning rank \n",
    "state_df['Rank'] = list(range(1,len(state_df)+1))\n",
    "\n",
    "#deleting unnecessary column\n",
    "del state_df['index']\n",
    "\n",
    "state_df.to_excel(path+'state_df.xlsx', index=False)"
   ]
  },
  {
   "cell_type": "markdown",
   "metadata": {},
   "source": [
    "Hospitalization numbers data"
   ]
  },
  {
   "cell_type": "code",
   "execution_count": 11,
   "metadata": {},
   "outputs": [],
   "source": [
    "hospital_df = pd.read_csv('hospital_df.csv')\n",
    "\n",
    "#converting elements into integer\n",
    "for c in hospital_df.columns[1:]:\n",
    "    hospital_df[c] = hospital_df[c].astype(str).str.replace(',','').astype(int)\n",
    "    \n",
    "#sorting the dataframe\n",
    "hospital_df = hospital_df.sort_values(by=' States/UTs')\n",
    "\n",
    "#standardizing state names with other dataframes as data comes from different sources\n",
    "keys = sorted(hospital_df[' States/UTs'].unique())\n",
    "vals = sorted(state_df['State'].unique())\n",
    "vals.insert(8,'Dadra and Nagar Haveli and Daman and Diu')\n",
    "vals.remove('State Unassigned')\n",
    "hospital_df[' States/UTs'] = hospital_df[' States/UTs'].replace(dict(zip(keys,vals)))\n",
    "hospital_df = hospital_df.groupby(by=' States/UTs').sum()\n",
    "hospital_df = hospital_df.reset_index()\n",
    "\n",
    "hospital_df.to_excel(path+'hospital_df.xlsx', index=False)"
   ]
  }
 ],
 "metadata": {
  "kernelspec": {
   "display_name": "Python 3",
   "language": "python",
   "name": "python3"
  },
  "language_info": {
   "codemirror_mode": {
    "name": "ipython",
    "version": 3
   },
   "file_extension": ".py",
   "mimetype": "text/x-python",
   "name": "python",
   "nbconvert_exporter": "python",
   "pygments_lexer": "ipython3",
   "version": "3.8.5"
  }
 },
 "nbformat": 4,
 "nbformat_minor": 4
}
